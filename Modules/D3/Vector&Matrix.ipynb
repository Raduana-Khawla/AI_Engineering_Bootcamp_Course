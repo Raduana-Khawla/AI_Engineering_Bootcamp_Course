{
  "nbformat": 4,
  "nbformat_minor": 0,
  "metadata": {
    "colab": {
      "provenance": []
    },
    "kernelspec": {
      "name": "python3",
      "display_name": "Python 3"
    },
    "language_info": {
      "name": "python"
    }
  },
  "cells": [
    {
      "cell_type": "code",
      "execution_count": 1,
      "metadata": {
        "colab": {
          "base_uri": "https://localhost:8080/"
        },
        "id": "1SrIRGMt-QzC",
        "outputId": "218b2003-1020-4434-b857-08dc0a7da428"
      },
      "outputs": [
        {
          "output_type": "stream",
          "name": "stdout",
          "text": [
            "Vector: [3 4]\n"
          ]
        }
      ],
      "source": [
        "import numpy as np\n",
        "v = np.array([3, 4])\n",
        "print(\"Vector:\", v)"
      ]
    },
    {
      "cell_type": "code",
      "source": [
        "vector = np.array([7,11,56,89])"
      ],
      "metadata": {
        "id": "CrN4CF_kBMs-"
      },
      "execution_count": 2,
      "outputs": []
    },
    {
      "cell_type": "code",
      "source": [
        "print(vector)"
      ],
      "metadata": {
        "colab": {
          "base_uri": "https://localhost:8080/"
        },
        "id": "zm3OXgkXBMwK",
        "outputId": "d3070ca9-4a65-4175-b46f-2e53cfb71e88"
      },
      "execution_count": 4,
      "outputs": [
        {
          "output_type": "stream",
          "name": "stdout",
          "text": [
            "[ 7 11 56 89]\n"
          ]
        }
      ]
    },
    {
      "cell_type": "code",
      "source": [
        "vector=[\n",
        "     [7,11,56,89],\n",
        "     [7,11],\n",
        "     [7,9],\n",
        "     [7,11,56,8,9],\n",
        "     [1],\n",
        "]"
      ],
      "metadata": {
        "id": "jffcmbVpBMzc"
      },
      "execution_count": 5,
      "outputs": []
    },
    {
      "cell_type": "code",
      "source": [
        "vector=[\n",
        "     [7,11],\n",
        "     [7,10],\n",
        "     [7,8],\n",
        "     [7,1],\n",
        "     [1,8],\n",
        "]"
      ],
      "metadata": {
        "id": "eXzfIn8pEpiE"
      },
      "execution_count": 22,
      "outputs": []
    },
    {
      "cell_type": "code",
      "source": [
        "print(vector)"
      ],
      "metadata": {
        "colab": {
          "base_uri": "https://localhost:8080/"
        },
        "id": "rtpgP2CLBM3E",
        "outputId": "9ae35341-f6ea-4dc7-882f-22c13d48181e"
      },
      "execution_count": 23,
      "outputs": [
        {
          "output_type": "stream",
          "name": "stdout",
          "text": [
            "[[7, 11], [7, 10], [7, 8], [7, 1], [1, 8]]\n"
          ]
        }
      ]
    },
    {
      "cell_type": "code",
      "source": [
        "print(\"Length of outer list:\", len(vector))\n",
        "print(\"Lengths of each sub-list:\", [len(sublist) for sublist in vector])"
      ],
      "metadata": {
        "colab": {
          "base_uri": "https://localhost:8080/"
        },
        "id": "WFTqHJaXBM6V",
        "outputId": "63306a08-9bba-4792-edcc-8ccf22aea0d2"
      },
      "execution_count": 24,
      "outputs": [
        {
          "output_type": "stream",
          "name": "stdout",
          "text": [
            "Length of outer list: 5\n",
            "Lengths of each sub-list: [2, 2, 2, 2, 2]\n"
          ]
        }
      ]
    },
    {
      "cell_type": "code",
      "source": [
        "arr = np.array(vector, dtype=object)\n",
        "print(\"Array shape:\", arr.shape)\n",
        "print(\"Array data type:\", arr.dtype)"
      ],
      "metadata": {
        "colab": {
          "base_uri": "https://localhost:8080/"
        },
        "id": "7jx5kvEDD-kN",
        "outputId": "8eef7ebf-ff95-494a-88c0-99a5ee5154c6"
      },
      "execution_count": 25,
      "outputs": [
        {
          "output_type": "stream",
          "name": "stdout",
          "text": [
            "Array shape: (5, 2)\n",
            "Array data type: object\n"
          ]
        }
      ]
    },
    {
      "cell_type": "code",
      "source": [
        "shape_of_vector=np.shape(vector)\n",
        "print(shape_of_vector)"
      ],
      "metadata": {
        "colab": {
          "base_uri": "https://localhost:8080/"
        },
        "id": "U-N-f1NKD-m0",
        "outputId": "2199cf3e-265f-4f3e-ba45-6e750942f6e6"
      },
      "execution_count": 26,
      "outputs": [
        {
          "output_type": "stream",
          "name": "stdout",
          "text": [
            "(5, 2)\n"
          ]
        }
      ]
    },
    {
      "cell_type": "markdown",
      "source": [
        "Vector Addition & Multiplication"
      ],
      "metadata": {
        "id": "vjMRJvqIJ7iL"
      }
    },
    {
      "cell_type": "code",
      "source": [
        "# a = np.array([1,2,5])\n",
        "# b = np.array([3,4])\n",
        "a = np.array([1,2])\n",
        "b = np.array([3,4])\n",
        "print(type(b))"
      ],
      "metadata": {
        "colab": {
          "base_uri": "https://localhost:8080/"
        },
        "id": "_Tab2psDD-qn",
        "outputId": "86fe7cba-5fd3-4393-a063-88bf836eff8b"
      },
      "execution_count": 35,
      "outputs": [
        {
          "output_type": "stream",
          "name": "stdout",
          "text": [
            "<class 'numpy.ndarray'>\n"
          ]
        }
      ]
    },
    {
      "cell_type": "code",
      "source": [
        "sum = a+b\n",
        "print(sum)"
      ],
      "metadata": {
        "colab": {
          "base_uri": "https://localhost:8080/"
        },
        "id": "d5jcQpvAD-tm",
        "outputId": "c8694d36-cf3c-4b9c-fa70-bcf5d79fc5fc"
      },
      "execution_count": 36,
      "outputs": [
        {
          "output_type": "stream",
          "name": "stdout",
          "text": [
            "[4 6]\n"
          ]
        }
      ]
    },
    {
      "cell_type": "code",
      "source": [
        "a = np.array([1,2,5])\n",
        "b = np.array([3])\n",
        "scaled_vector = 3*a\n",
        "print(scaled_vector)"
      ],
      "metadata": {
        "colab": {
          "base_uri": "https://localhost:8080/"
        },
        "id": "K6qYBrHDKerH",
        "outputId": "bb5edcc3-7bf7-4900-b46a-85e96db5041a"
      },
      "execution_count": 38,
      "outputs": [
        {
          "output_type": "stream",
          "name": "stdout",
          "text": [
            "[ 3  6 15]\n"
          ]
        }
      ]
    },
    {
      "cell_type": "markdown",
      "source": [
        "6.Dot product Between vectors theory:\n",
        "Dot Product = how similar two directions are."
      ],
      "metadata": {
        "id": "SV3QVPPCQh_z"
      }
    },
    {
      "cell_type": "code",
      "source": [
        "a = np.array([1,2,5])\n",
        "b = np.array([3,4,6])"
      ],
      "metadata": {
        "id": "TPFhUgygKetp"
      },
      "execution_count": 41,
      "outputs": []
    },
    {
      "cell_type": "code",
      "source": [
        "dot = np.dot(a,b)\n",
        "print(\"Dot Production:\"), dot"
      ],
      "metadata": {
        "colab": {
          "base_uri": "https://localhost:8080/"
        },
        "id": "e9Tr4eu2Kexq",
        "outputId": "edc027d2-0111-42b3-a768-05f71df3c26a"
      },
      "execution_count": 42,
      "outputs": [
        {
          "output_type": "stream",
          "name": "stdout",
          "text": [
            "Dot Production:\n"
          ]
        },
        {
          "output_type": "execute_result",
          "data": {
            "text/plain": [
              "(None, np.int64(41))"
            ]
          },
          "metadata": {},
          "execution_count": 42
        }
      ]
    },
    {
      "cell_type": "code",
      "source": [
        "import numpy as np\n",
        "\n",
        "A = np.array([\n",
        "    [1, 2],\n",
        "    [3, 4]\n",
        "])\n",
        "B = np.array([\n",
        "    [1, 2],\n",
        "    [3, 4]\n",
        "])\n",
        "result = np.dot(A,B)\n",
        "print(result)"
      ],
      "metadata": {
        "colab": {
          "base_uri": "https://localhost:8080/"
        },
        "id": "ELNivX7UKe0t",
        "outputId": "2230bc50-5fca-45d2-f704-16d845151d44"
      },
      "execution_count": 43,
      "outputs": [
        {
          "output_type": "stream",
          "name": "stdout",
          "text": [
            "[[ 7 10]\n",
            " [15 22]]\n"
          ]
        }
      ]
    },
    {
      "cell_type": "code",
      "source": [
        "import numpy as np\n",
        "\n",
        "# Vector of 3 elements\n",
        "v = np.array([1, 2, 3])\n",
        "print(\"Vector v:\", v)\n",
        "print(\"Shape:\", v.shape)  # Output: (3,)\n"
      ],
      "metadata": {
        "colab": {
          "base_uri": "https://localhost:8080/"
        },
        "id": "MLl4cIusZEQi",
        "outputId": "c7dc5967-6f69-4512-ccdb-32d3a05dbde1"
      },
      "execution_count": 1,
      "outputs": [
        {
          "output_type": "stream",
          "name": "stdout",
          "text": [
            "Vector v: [1 2 3]\n",
            "Shape: (3,)\n"
          ]
        }
      ]
    },
    {
      "cell_type": "code",
      "source": [
        "# Matrix of 2 rows and 3 columns\n",
        "M = np.array([[1, 2, 3], [4, 5, 6]])\n",
        "print(\"Matrix M:\\n\", M)\n",
        "print(\"Shape:\", M.shape)  # Output: (2, 3)\n"
      ],
      "metadata": {
        "colab": {
          "base_uri": "https://localhost:8080/"
        },
        "id": "uG0MQBQLZET2",
        "outputId": "37c72d8c-04de-426a-b731-c5ec799b815e"
      },
      "execution_count": 2,
      "outputs": [
        {
          "output_type": "stream",
          "name": "stdout",
          "text": [
            "Matrix M:\n",
            " [[1 2 3]\n",
            " [4 5 6]]\n",
            "Shape: (2, 3)\n"
          ]
        }
      ]
    },
    {
      "cell_type": "markdown",
      "source": [
        "2: Fixing Vector-Matrix Shape Errors – With Code and Explanations\n",
        "Shape mismatch errors happen when dimensions don’t align for operations like matrix multiplication or broadcasting."
      ],
      "metadata": {
        "id": "l24P47h5ZRHw"
      }
    },
    {
      "cell_type": "code",
      "source": [
        "v = np.array([1, 2, 3])\n",
        "M = np.array([[1, 2], [3, 4]])  # Shape (2,2)\n",
        "\n",
        "# This will throw an error: incompatible shapes for dot product\n",
        "result = np.dot(v, M)  # ValueError!\n"
      ],
      "metadata": {
        "colab": {
          "base_uri": "https://localhost:8080/",
          "height": 176
        },
        "id": "dP4ZkBVlZEW6",
        "outputId": "353da343-74bf-4463-873b-355039001e06"
      },
      "execution_count": 3,
      "outputs": [
        {
          "output_type": "error",
          "ename": "ValueError",
          "evalue": "shapes (3,) and (2,2) not aligned: 3 (dim 0) != 2 (dim 0)",
          "traceback": [
            "\u001b[0;31m---------------------------------------------------------------------------\u001b[0m",
            "\u001b[0;31mValueError\u001b[0m                                Traceback (most recent call last)",
            "\u001b[0;32m<ipython-input-3-7d3fa88390cb>\u001b[0m in \u001b[0;36m<cell line: 0>\u001b[0;34m()\u001b[0m\n\u001b[1;32m      3\u001b[0m \u001b[0;34m\u001b[0m\u001b[0m\n\u001b[1;32m      4\u001b[0m \u001b[0;31m# This will throw an error: incompatible shapes for dot product\u001b[0m\u001b[0;34m\u001b[0m\u001b[0;34m\u001b[0m\u001b[0m\n\u001b[0;32m----> 5\u001b[0;31m \u001b[0mresult\u001b[0m \u001b[0;34m=\u001b[0m \u001b[0mnp\u001b[0m\u001b[0;34m.\u001b[0m\u001b[0mdot\u001b[0m\u001b[0;34m(\u001b[0m\u001b[0mv\u001b[0m\u001b[0;34m,\u001b[0m \u001b[0mM\u001b[0m\u001b[0;34m)\u001b[0m  \u001b[0;31m# ValueError!\u001b[0m\u001b[0;34m\u001b[0m\u001b[0;34m\u001b[0m\u001b[0m\n\u001b[0m",
            "\u001b[0;31mValueError\u001b[0m: shapes (3,) and (2,2) not aligned: 3 (dim 0) != 2 (dim 0)"
          ]
        }
      ]
    },
    {
      "cell_type": "markdown",
      "source": [
        "Fix: Reshape the vector properly"
      ],
      "metadata": {
        "id": "L09colmhZiOb"
      }
    },
    {
      "cell_type": "code",
      "source": [
        "v = np.array([1, 2])\n",
        "M = np.array([[1, 2], [3, 4]])\n",
        "\n",
        "# Now shapes match: (1,2) x (2,2) -> (1,2)\n",
        "v_reshaped = v.reshape(1, 2)\n",
        "result = np.dot(v_reshaped, M)\n",
        "print(\"Result:\\n\", result)\n"
      ],
      "metadata": {
        "colab": {
          "base_uri": "https://localhost:8080/"
        },
        "id": "hA0U6-RnZEva",
        "outputId": "e9b4689a-def7-440f-c1d8-7aee56147246"
      },
      "execution_count": 4,
      "outputs": [
        {
          "output_type": "stream",
          "name": "stdout",
          "text": [
            "Result:\n",
            " [[ 7 10]]\n"
          ]
        }
      ]
    },
    {
      "cell_type": "markdown",
      "source": [
        "3: Vector-Matrix Operations in AI – With Code and Explanations\n",
        "These operations are crucial in AI, especially in neural networks, linear regression, and embeddings.\n",
        "\n",
        "➤ Dot Product (Neural Layers)"
      ],
      "metadata": {
        "id": "wUH8AEiYZrDJ"
      }
    },
    {
      "cell_type": "code",
      "source": [
        "# Input vector and weight matrix\n",
        "x = np.array([0.5, 1.5])               # Shape: (2,)\n",
        "W = np.array([[0.1, 0.3], [0.2, 0.4]]) # Shape: (2,2)\n",
        "\n",
        "# Output = x · W\n",
        "output = np.dot(x, W)\n",
        "print(\"Output:\", output)  # Shape: (2,)\n"
      ],
      "metadata": {
        "colab": {
          "base_uri": "https://localhost:8080/"
        },
        "id": "Zlyrh-4MZEzb",
        "outputId": "53d7ae33-1835-4d0d-b470-ed6e97c8e830"
      },
      "execution_count": 5,
      "outputs": [
        {
          "output_type": "stream",
          "name": "stdout",
          "text": [
            "Output: [0.35 0.75]\n"
          ]
        }
      ]
    },
    {
      "cell_type": "markdown",
      "source": [
        "Broadcasting (Bias Addition)"
      ],
      "metadata": {
        "id": "jgiR2-fwZw75"
      }
    },
    {
      "cell_type": "code",
      "source": [
        "bias = np.array([0.1, 0.2])\n",
        "activated = output + bias  # Adds element-wise (shape match)\n",
        "print(\"Activated Output:\", activated)\n"
      ],
      "metadata": {
        "colab": {
          "base_uri": "https://localhost:8080/"
        },
        "id": "SlBQL6OFZE3D",
        "outputId": "072c21e3-d5ca-4b37-b7ad-09d389b448cd"
      },
      "execution_count": 6,
      "outputs": [
        {
          "output_type": "stream",
          "name": "stdout",
          "text": [
            "Activated Output: [0.45 0.95]\n"
          ]
        }
      ]
    },
    {
      "cell_type": "markdown",
      "source": [
        "4: Shape Mismatch Fixes in AI – With Code and Explanations\n",
        "🔻 Common AI Scenario: Input × Weights + Bias"
      ],
      "metadata": {
        "id": "08TtxJxxZ5AQ"
      }
    },
    {
      "cell_type": "code",
      "source": [
        "# Batch of 2 samples, each with 3 features\n",
        "X = np.array([[1, 2, 3], [4, 5, 6]])  # Shape: (2, 3)\n",
        "\n",
        "# Weight matrix for 3 inputs to 2 outputs\n",
        "W = np.array([[0.1, 0.2], [0.3, 0.4], [0.5, 0.6]])  # Shape: (3, 2)\n",
        "\n",
        "# Bias vector\n",
        "b = np.array([0.1, 0.2])  # Shape: (2,)\n",
        "\n",
        "# Correct shape: (2,3) x (3,2) + (2,) => (2,2)\n",
        "Z = np.dot(X, W) + b\n",
        "print(\"Output Z:\\n\", Z)\n"
      ],
      "metadata": {
        "colab": {
          "base_uri": "https://localhost:8080/"
        },
        "id": "qDc1cVMUZ52K",
        "outputId": "8b6b46bf-9804-4edc-b619-9663b1d22e45"
      },
      "execution_count": 7,
      "outputs": [
        {
          "output_type": "stream",
          "name": "stdout",
          "text": [
            "Output Z:\n",
            " [[2.3 3. ]\n",
            " [5.  6.6]]\n"
          ]
        }
      ]
    },
    {
      "cell_type": "code",
      "source": [
        "#Common Error: Incorrect bias shape\n",
        "# Wrong shape\n",
        "b_wrong = np.array([[0.1], [0.2]])  # Shape: (2,1)\n",
        "\n",
        "# This may throw a broadcasting error\n",
        "Z = np.dot(X, W) + b_wrong  # ❌\n"
      ],
      "metadata": {
        "id": "NA-yfw2QZ55j"
      },
      "execution_count": 8,
      "outputs": []
    },
    {
      "cell_type": "markdown",
      "source": [
        "Fix: Ensure shapes are aligned or use .reshape() or .broadcast_to()"
      ],
      "metadata": {
        "id": "Z2wv9ZL1aHSj"
      }
    },
    {
      "cell_type": "code",
      "source": [
        "b_fixed = b.reshape(1, 2)  # Shape (1,2) broadcastable with (2,2)\n",
        "Z = np.dot(X, W) + b_fixed  # ✅\n"
      ],
      "metadata": {
        "id": "l6ytxqe_aInO"
      },
      "execution_count": 9,
      "outputs": []
    }
  ]
}