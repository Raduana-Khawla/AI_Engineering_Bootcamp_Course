{
  "cells": [
    {
      "cell_type": "code",
      "execution_count": null,
      "metadata": {
        "id": "uliB64r96PeB"
      },
      "outputs": [],
      "source": [
        "import requests\n"
      ]
    },
    {
      "cell_type": "code",
      "execution_count": null,
      "metadata": {
        "id": "IsUBo4HWTH6r"
      },
      "outputs": [],
      "source": [
        "response= requests.get(\"https://jsonplaceholder.typicode.com/posts/1\")"
      ]
    },
    {
      "cell_type": "code",
      "execution_count": null,
      "metadata": {
        "colab": {
          "base_uri": "https://localhost:8080/"
        },
        "id": "sVenxZpYTH-H",
        "outputId": "ad0b1606-f1c8-4b74-fb8a-79b8784d223c"
      },
      "outputs": [
        {
          "name": "stdout",
          "output_type": "stream",
          "text": [
            "{'userId': 1, 'id': 1, 'title': 'sunt aut facere repellat provident occaecati excepturi optio reprehenderit', 'body': 'quia et suscipit\\nsuscipit recusandae consequuntur expedita et cum\\nreprehenderit molestiae ut ut quas totam\\nnostrum rerum est autem sunt rem eveniet architecto'}\n"
          ]
        }
      ],
      "source": [
        "print(response.json())"
      ]
    },
    {
      "cell_type": "code",
      "execution_count": 8,
      "metadata": {
        "colab": {
          "base_uri": "https://localhost:8080/"
        },
        "id": "cd11pPAcTIBV",
        "outputId": "8f63370a-407c-4d8d-f7cb-48c0a21b3ac9"
      },
      "outputs": [
        {
          "name": "stdout",
          "output_type": "stream",
          "text": [
            "{\n",
            "  \"userId\": 1,\n",
            "  \"id\": 1,\n",
            "  \"title\": \"sunt aut facere repellat provident occaecati excepturi optio reprehenderit\",\n",
            "  \"body\": \"quia et suscipit\\nsuscipit recusandae consequuntur expedita et cum\\nreprehenderit molestiae ut ut quas totam\\nnostrum rerum est autem sunt rem eveniet architecto\"\n",
            "}\n"
          ]
        }
      ],
      "source": [
        "print(response.text)"
      ]
    },
    {
      "cell_type": "code",
      "execution_count": 11,
      "metadata": {
        "colab": {
          "base_uri": "https://localhost:8080/"
        },
        "id": "80gzkRs7TIEs",
        "outputId": "28ab9697-6154-429b-f950-a18bff77d332"
      },
      "outputs": [
        {
          "name": "stdout",
          "output_type": "stream",
          "text": [
            "status Code: 201\n",
            "Response JSON: {'title': 'Learn APIs', 'body': 'POST example with requests', 'userId': 1, 'id': 101}\n"
          ]
        }
      ],
      "source": [
        "url = \"https://jsonplaceholder.typicode.com/posts\"\n",
        "payload = {\n",
        "    \"title\": \"Learn APIs\",\n",
        "    \"body\": \"POST example with requests\",\n",
        "    \"userId\": 1\n",
        "}\n",
        "\n",
        "response = requests.post(url, json=payload)\n",
        "print(\"status Code:\", response.status_code)\n",
        "print(\"Response JSON:\", response.json())"
      ]
    },
    {
      "cell_type": "code",
      "execution_count": null,
      "metadata": {},
      "outputs": [],
      "source": []
    },
    {
      "cell_type": "code",
      "execution_count": null,
      "metadata": {
        "colab": {
          "base_uri": "https://localhost:8080/"
        },
        "collapsed": true,
        "id": "G9PHNyrAWXE_",
        "outputId": "16f6e197-fb58-4534-a28c-6c3b7cfc07d3"
      },
      "outputs": [
        {
          "name": "stdout",
          "output_type": "stream",
          "text": [
            "Response JSON: [{'userId': 1, 'id': 1, 'title': 'sunt aut facere repellat provident occaecati excepturi optio reprehenderit', 'body': 'quia et suscipit\\nsuscipit recusandae consequuntur expedita et cum\\nreprehenderit molestiae ut ut quas totam\\nnostrum rerum est autem sunt rem eveniet architecto'}, {'userId': 1, 'id': 2, 'title': 'qui est esse', 'body': 'est rerum tempore vitae\\nsequi sint nihil reprehenderit dolor beatae ea dolores neque\\nfugiat blanditiis voluptate porro vel nihil molestiae ut reiciendis\\nqui aperiam non debitis possimus qui neque nisi nulla'}, {'userId': 1, 'id': 3, 'title': 'ea molestias quasi exercitationem repellat qui ipsa sit aut', 'body': 'et iusto sed quo iure\\nvoluptatem occaecati omnis eligendi aut ad\\nvoluptatem doloribus vel accusantium quis pariatur\\nmolestiae porro eius odio et labore et velit aut'}, {'userId': 1, 'id': 4, 'title': 'eum et est occaecati', 'body': 'ullam et saepe reiciendis voluptatem adipisci\\nsit amet autem assumenda provident rerum culpa\\nquis hic commodi nesciunt rem tenetur doloremque ipsam iure\\nquis sunt voluptatem rerum illo velit'}, {'userId': 1, 'id': 5, 'title': 'nesciunt quas odio', 'body': 'repudiandae veniam quaerat sunt sed\\nalias aut fugiat sit autem sed est\\nvoluptatem omnis possimus esse voluptatibus quis\\nest aut tenetur dolor neque'}, {'userId': 1, 'id': 6, 'title': 'dolorem eum magni eos aperiam quia', 'body': 'ut aspernatur corporis harum nihil quis provident sequi\\nmollitia nobis aliquid molestiae\\nperspiciatis et ea nemo ab reprehenderit accusantium quas\\nvoluptate dolores velit et doloremque molestiae'}, {'userId': 1, 'id': 7, 'title': 'magnam facilis autem', 'body': 'dolore placeat quibusdam ea quo vitae\\nmagni quis enim qui quis quo nemo aut saepe\\nquidem repellat excepturi ut quia\\nsunt ut sequi eos ea sed quas'}, {'userId': 1, 'id': 8, 'title': 'dolorem dolore est ipsam', 'body': 'dignissimos aperiam dolorem qui eum\\nfacilis quibusdam animi sint suscipit qui sint possimus cum\\nquaerat magni maiores excepturi\\nipsam ut commodi dolor voluptatum modi aut vitae'}, {'userId': 1, 'id': 9, 'title': 'nesciunt iure omnis dolorem tempora et accusantium', 'body': 'consectetur animi nesciunt iure dolore\\nenim quia ad\\nveniam autem ut quam aut nobis\\net est aut quod aut provident voluptas autem voluptas'}, {'userId': 1, 'id': 10, 'title': 'optio molestias id quia eum', 'body': 'quo et expedita modi cum officia vel magni\\ndoloribus qui repudiandae\\nvero nisi sit\\nquos veniam quod sed accusamus veritatis error'}]\n",
            "[\n",
            "  {\n",
            "    \"userId\": 1,\n",
            "    \"id\": 1,\n",
            "    \"title\": \"sunt aut facere repellat provident occaecati excepturi optio reprehenderit\",\n",
            "    \"body\": \"quia et suscipit\\nsuscipit recusandae consequuntur expedita et cum\\nreprehenderit molestiae ut ut quas totam\\nnostrum rerum est autem sunt rem eveniet architecto\"\n",
            "  },\n",
            "  {\n",
            "    \"userId\": 1,\n",
            "    \"id\": 2,\n",
            "    \"title\": \"qui est esse\",\n",
            "    \"body\": \"est rerum tempore vitae\\nsequi sint nihil reprehenderit dolor beatae ea dolores neque\\nfugiat blanditiis voluptate porro vel nihil molestiae ut reiciendis\\nqui aperiam non debitis possimus qui neque nisi nulla\"\n",
            "  },\n",
            "  {\n",
            "    \"userId\": 1,\n",
            "    \"id\": 3,\n",
            "    \"title\": \"ea molestias quasi exercitationem repellat qui ipsa sit aut\",\n",
            "    \"body\": \"et iusto sed quo iure\\nvoluptatem occaecati omnis eligendi aut ad\\nvoluptatem doloribus vel accusantium quis pariatur\\nmolestiae porro eius odio et labore et velit aut\"\n",
            "  },\n",
            "  {\n",
            "    \"userId\": 1,\n",
            "    \"id\": 4,\n",
            "    \"title\": \"eum et est occaecati\",\n",
            "    \"body\": \"ullam et saepe reiciendis voluptatem adipisci\\nsit amet autem assumenda provident rerum culpa\\nquis hic commodi nesciunt rem tenetur doloremque ipsam iure\\nquis sunt voluptatem rerum illo velit\"\n",
            "  },\n",
            "  {\n",
            "    \"userId\": 1,\n",
            "    \"id\": 5,\n",
            "    \"title\": \"nesciunt quas odio\",\n",
            "    \"body\": \"repudiandae veniam quaerat sunt sed\\nalias aut fugiat sit autem sed est\\nvoluptatem omnis possimus esse voluptatibus quis\\nest aut tenetur dolor neque\"\n",
            "  },\n",
            "  {\n",
            "    \"userId\": 1,\n",
            "    \"id\": 6,\n",
            "    \"title\": \"dolorem eum magni eos aperiam quia\",\n",
            "    \"body\": \"ut aspernatur corporis harum nihil quis provident sequi\\nmollitia nobis aliquid molestiae\\nperspiciatis et ea nemo ab reprehenderit accusantium quas\\nvoluptate dolores velit et doloremque molestiae\"\n",
            "  },\n",
            "  {\n",
            "    \"userId\": 1,\n",
            "    \"id\": 7,\n",
            "    \"title\": \"magnam facilis autem\",\n",
            "    \"body\": \"dolore placeat quibusdam ea quo vitae\\nmagni quis enim qui quis quo nemo aut saepe\\nquidem repellat excepturi ut quia\\nsunt ut sequi eos ea sed quas\"\n",
            "  },\n",
            "  {\n",
            "    \"userId\": 1,\n",
            "    \"id\": 8,\n",
            "    \"title\": \"dolorem dolore est ipsam\",\n",
            "    \"body\": \"dignissimos aperiam dolorem qui eum\\nfacilis quibusdam animi sint suscipit qui sint possimus cum\\nquaerat magni maiores excepturi\\nipsam ut commodi dolor voluptatum modi aut vitae\"\n",
            "  },\n",
            "  {\n",
            "    \"userId\": 1,\n",
            "    \"id\": 9,\n",
            "    \"title\": \"nesciunt iure omnis dolorem tempora et accusantium\",\n",
            "    \"body\": \"consectetur animi nesciunt iure dolore\\nenim quia ad\\nveniam autem ut quam aut nobis\\net est aut quod aut provident voluptas autem voluptas\"\n",
            "  },\n",
            "  {\n",
            "    \"userId\": 1,\n",
            "    \"id\": 10,\n",
            "    \"title\": \"optio molestias id quia eum\",\n",
            "    \"body\": \"quo et expedita modi cum officia vel magni\\ndoloribus qui repudiandae\\nvero nisi sit\\nquos veniam quod sed accusamus veritatis error\"\n",
            "  }\n",
            "]\n"
          ]
        }
      ],
      "source": [
        "params = {'userId':1}\n",
        "response = requests.get(\"https://jsonplaceholder.typicode.com/posts\", params=params)\n",
        "print(\"Response JSON:\", response.json())\n",
        "print(response.text)"
      ]
    },
    {
      "cell_type": "code",
      "execution_count": null,
      "metadata": {
        "colab": {
          "base_uri": "https://localhost:8080/"
        },
        "id": "3MsuhITUaBJO",
        "outputId": "68810efb-c332-4621-cbbe-31be4700a75f"
      },
      "outputs": [
        {
          "name": "stdout",
          "output_type": "stream",
          "text": [
            "[\n",
            "  {\n",
            "    \"userId\": 10,\n",
            "    \"id\": 94,\n",
            "    \"title\": \"qui qui voluptates illo iste minima\",\n",
            "    \"body\": \"aspernatur expedita soluta quo ab ut similique\\nexpedita dolores amet\\nsed temporibus distinctio magnam saepe deleniti\\nomnis facilis nam ipsum natus sint similique omnis\"\n",
            "  }\n",
            "]\n"
          ]
        }
      ],
      "source": [
        "params = {'id':94}\n",
        "response = requests.get(\"https://jsonplaceholder.typicode.com/posts\", params=params)\n",
        "print(response.text)\n"
      ]
    },
    {
      "cell_type": "code",
      "execution_count": null,
      "metadata": {
        "colab": {
          "base_uri": "https://localhost:8080/"
        },
        "collapsed": true,
        "id": "es59qMD7WXH6",
        "outputId": "2a73e346-bfbf-4ec7-ef98-dc3cadffe205"
      },
      "outputs": [
        {
          "name": "stdout",
          "output_type": "stream",
          "text": [
            "[\n",
            "  {\n",
            "    \"userId\": 10,\n",
            "    \"id\": 91,\n",
            "    \"title\": \"aut amet sed\",\n",
            "    \"body\": \"libero voluptate eveniet aperiam sed\\nsunt placeat suscipit molestias\\nsimilique fugit nam natus\\nexpedita consequatur consequatur dolores quia eos et placeat\"\n",
            "  },\n",
            "  {\n",
            "    \"userId\": 10,\n",
            "    \"id\": 92,\n",
            "    \"title\": \"ratione ex tenetur perferendis\",\n",
            "    \"body\": \"aut et excepturi dicta laudantium sint rerum nihil\\nlaudantium et at\\na neque minima officia et similique libero et\\ncommodi voluptate qui\"\n",
            "  },\n",
            "  {\n",
            "    \"userId\": 10,\n",
            "    \"id\": 93,\n",
            "    \"title\": \"beatae soluta recusandae\",\n",
            "    \"body\": \"dolorem quibusdam ducimus consequuntur dicta aut quo laboriosam\\nvoluptatem quis enim recusandae ut sed sunt\\nnostrum est odit totam\\nsit error sed sunt eveniet provident qui nulla\"\n",
            "  },\n",
            "  {\n",
            "    \"userId\": 10,\n",
            "    \"id\": 94,\n",
            "    \"title\": \"qui qui voluptates illo iste minima\",\n",
            "    \"body\": \"aspernatur expedita soluta quo ab ut similique\\nexpedita dolores amet\\nsed temporibus distinctio magnam saepe deleniti\\nomnis facilis nam ipsum natus sint similique omnis\"\n",
            "  },\n",
            "  {\n",
            "    \"userId\": 10,\n",
            "    \"id\": 95,\n",
            "    \"title\": \"id minus libero illum nam ad officiis\",\n",
            "    \"body\": \"earum voluptatem facere provident blanditiis velit laboriosam\\npariatur accusamus odio saepe\\ncumque dolor qui a dicta ab doloribus consequatur omnis\\ncorporis cupiditate eaque assumenda ad nesciunt\"\n",
            "  },\n",
            "  {\n",
            "    \"userId\": 10,\n",
            "    \"id\": 96,\n",
            "    \"title\": \"quaerat velit veniam amet cupiditate aut numquam ut sequi\",\n",
            "    \"body\": \"in non odio excepturi sint eum\\nlabore voluptates vitae quia qui et\\ninventore itaque rerum\\nveniam non exercitationem delectus aut\"\n",
            "  },\n",
            "  {\n",
            "    \"userId\": 10,\n",
            "    \"id\": 97,\n",
            "    \"title\": \"quas fugiat ut perspiciatis vero provident\",\n",
            "    \"body\": \"eum non blanditiis soluta porro quibusdam voluptas\\nvel voluptatem qui placeat dolores qui velit aut\\nvel inventore aut cumque culpa explicabo aliquid at\\nperspiciatis est et voluptatem dignissimos dolor itaque sit nam\"\n",
            "  },\n",
            "  {\n",
            "    \"userId\": 10,\n",
            "    \"id\": 98,\n",
            "    \"title\": \"laboriosam dolor voluptates\",\n",
            "    \"body\": \"doloremque ex facilis sit sint culpa\\nsoluta assumenda eligendi non ut eius\\nsequi ducimus vel quasi\\nveritatis est dolores\"\n",
            "  },\n",
            "  {\n",
            "    \"userId\": 10,\n",
            "    \"id\": 99,\n",
            "    \"title\": \"temporibus sit alias delectus eligendi possimus magni\",\n",
            "    \"body\": \"quo deleniti praesentium dicta non quod\\naut est molestias\\nmolestias et officia quis nihil\\nitaque dolorem quia\"\n",
            "  },\n",
            "  {\n",
            "    \"userId\": 10,\n",
            "    \"id\": 100,\n",
            "    \"title\": \"at nam consequatur ea labore ea harum\",\n",
            "    \"body\": \"cupiditate quo est a modi nesciunt soluta\\nipsa voluptas error itaque dicta in\\nautem qui minus magnam et distinctio eum\\naccusamus ratione error aut\"\n",
            "  }\n",
            "]\n"
          ]
        }
      ],
      "source": [
        "params = {'userId':10}\n",
        "response = requests.get(\"https://jsonplaceholder.typicode.com/posts\", params=params)\n",
        "print(response.text)"
      ]
    },
    {
      "cell_type": "code",
      "execution_count": 12,
      "metadata": {
        "colab": {
          "base_uri": "https://localhost:8080/"
        },
        "id": "E_jIFaZKWXK2",
        "outputId": "12cf1880-2e5b-4d67-b632-302f0561a07b"
      },
      "outputs": [
        {
          "name": "stdout",
          "output_type": "stream",
          "text": [
            "{\"latitude\":52.52,\"longitude\":13.419998,\"generationtime_ms\":0.036597251892089844,\"utc_offset_seconds\":0,\"timezone\":\"GMT\",\"timezone_abbreviation\":\"GMT\",\"elevation\":38.0,\"hourly_units\":{\"time\":\"iso8601\",\"temperature_2m\":\"°C\"},\"hourly\":{\"time\":[\"2025-05-15T00:00\",\"2025-05-15T01:00\",\"2025-05-15T02:00\",\"2025-05-15T03:00\",\"2025-05-15T04:00\",\"2025-05-15T05:00\",\"2025-05-15T06:00\",\"2025-05-15T07:00\",\"2025-05-15T08:00\",\"2025-05-15T09:00\",\"2025-05-15T10:00\",\"2025-05-15T11:00\",\"2025-05-15T12:00\",\"2025-05-15T13:00\",\"2025-05-15T14:00\",\"2025-05-15T15:00\",\"2025-05-15T16:00\",\"2025-05-15T17:00\",\"2025-05-15T18:00\",\"2025-05-15T19:00\",\"2025-05-15T20:00\",\"2025-05-15T21:00\",\"2025-05-15T22:00\",\"2025-05-15T23:00\",\"2025-05-16T00:00\",\"2025-05-16T01:00\",\"2025-05-16T02:00\",\"2025-05-16T03:00\",\"2025-05-16T04:00\",\"2025-05-16T05:00\",\"2025-05-16T06:00\",\"2025-05-16T07:00\",\"2025-05-16T08:00\",\"2025-05-16T09:00\",\"2025-05-16T10:00\",\"2025-05-16T11:00\",\"2025-05-16T12:00\",\"2025-05-16T13:00\",\"2025-05-16T14:00\",\"2025-05-16T15:00\",\"2025-05-16T16:00\",\"2025-05-16T17:00\",\"2025-05-16T18:00\",\"2025-05-16T19:00\",\"2025-05-16T20:00\",\"2025-05-16T21:00\",\"2025-05-16T22:00\",\"2025-05-16T23:00\",\"2025-05-17T00:00\",\"2025-05-17T01:00\",\"2025-05-17T02:00\",\"2025-05-17T03:00\",\"2025-05-17T04:00\",\"2025-05-17T05:00\",\"2025-05-17T06:00\",\"2025-05-17T07:00\",\"2025-05-17T08:00\",\"2025-05-17T09:00\",\"2025-05-17T10:00\",\"2025-05-17T11:00\",\"2025-05-17T12:00\",\"2025-05-17T13:00\",\"2025-05-17T14:00\",\"2025-05-17T15:00\",\"2025-05-17T16:00\",\"2025-05-17T17:00\",\"2025-05-17T18:00\",\"2025-05-17T19:00\",\"2025-05-17T20:00\",\"2025-05-17T21:00\",\"2025-05-17T22:00\",\"2025-05-17T23:00\",\"2025-05-18T00:00\",\"2025-05-18T01:00\",\"2025-05-18T02:00\",\"2025-05-18T03:00\",\"2025-05-18T04:00\",\"2025-05-18T05:00\",\"2025-05-18T06:00\",\"2025-05-18T07:00\",\"2025-05-18T08:00\",\"2025-05-18T09:00\",\"2025-05-18T10:00\",\"2025-05-18T11:00\",\"2025-05-18T12:00\",\"2025-05-18T13:00\",\"2025-05-18T14:00\",\"2025-05-18T15:00\",\"2025-05-18T16:00\",\"2025-05-18T17:00\",\"2025-05-18T18:00\",\"2025-05-18T19:00\",\"2025-05-18T20:00\",\"2025-05-18T21:00\",\"2025-05-18T22:00\",\"2025-05-18T23:00\",\"2025-05-19T00:00\",\"2025-05-19T01:00\",\"2025-05-19T02:00\",\"2025-05-19T03:00\",\"2025-05-19T04:00\",\"2025-05-19T05:00\",\"2025-05-19T06:00\",\"2025-05-19T07:00\",\"2025-05-19T08:00\",\"2025-05-19T09:00\",\"2025-05-19T10:00\",\"2025-05-19T11:00\",\"2025-05-19T12:00\",\"2025-05-19T13:00\",\"2025-05-19T14:00\",\"2025-05-19T15:00\",\"2025-05-19T16:00\",\"2025-05-19T17:00\",\"2025-05-19T18:00\",\"2025-05-19T19:00\",\"2025-05-19T20:00\",\"2025-05-19T21:00\",\"2025-05-19T22:00\",\"2025-05-19T23:00\",\"2025-05-20T00:00\",\"2025-05-20T01:00\",\"2025-05-20T02:00\",\"2025-05-20T03:00\",\"2025-05-20T04:00\",\"2025-05-20T05:00\",\"2025-05-20T06:00\",\"2025-05-20T07:00\",\"2025-05-20T08:00\",\"2025-05-20T09:00\",\"2025-05-20T10:00\",\"2025-05-20T11:00\",\"2025-05-20T12:00\",\"2025-05-20T13:00\",\"2025-05-20T14:00\",\"2025-05-20T15:00\",\"2025-05-20T16:00\",\"2025-05-20T17:00\",\"2025-05-20T18:00\",\"2025-05-20T19:00\",\"2025-05-20T20:00\",\"2025-05-20T21:00\",\"2025-05-20T22:00\",\"2025-05-20T23:00\",\"2025-05-21T00:00\",\"2025-05-21T01:00\",\"2025-05-21T02:00\",\"2025-05-21T03:00\",\"2025-05-21T04:00\",\"2025-05-21T05:00\",\"2025-05-21T06:00\",\"2025-05-21T07:00\",\"2025-05-21T08:00\",\"2025-05-21T09:00\",\"2025-05-21T10:00\",\"2025-05-21T11:00\",\"2025-05-21T12:00\",\"2025-05-21T13:00\",\"2025-05-21T14:00\",\"2025-05-21T15:00\",\"2025-05-21T16:00\",\"2025-05-21T17:00\",\"2025-05-21T18:00\",\"2025-05-21T19:00\",\"2025-05-21T20:00\",\"2025-05-21T21:00\",\"2025-05-21T22:00\",\"2025-05-21T23:00\"],\"temperature_2m\":[11.8,10.8,9.7,9.3,8.3,8.3,9.3,11.3,12.8,13.5,13.8,13.7,14.1,12.6,12.8,13.9,14.0,13.5,12.4,11.7,11.3,10.8,10.4,10.1,9.9,9.6,9.6,9.1,8.8,9.0,9.6,10.9,12.1,13.0,13.8,13.2,16.1,16.8,15.6,14.7,13.8,12.8,12.3,11.9,11.4,11.2,11.0,10.5,10.0,9.9,9.8,9.9,9.9,10.1,11.1,12.1,13.1,15.1,16.0,16.0,15.7,15.3,14.6,14.4,14.0,13.6,13.0,12.2,11.4,10.7,10.0,9.5,9.1,8.8,8.5,8.4,8.4,8.6,9.5,10.4,11.2,12.3,13.1,13.9,14.9,15.5,15.9,16.1,16.1,15.8,15.3,14.4,13.2,12.1,11.3,10.5,9.9,9.4,9.0,8.9,9.1,9.7,10.3,11.0,11.7,12.4,12.9,13.4,13.7,14.1,14.5,14.6,14.4,13.9,13.4,12.9,12.2,11.7,11.4,11.1,10.9,10.6,10.4,10.3,10.6,11.0,11.4,11.7,14.5,16.8,18.2,19.2,20.0,20.5,20.8,20.8,20.5,20.0,19.1,17.9,16.3,15.0,14.1,13.4,12.7,11.8,10.9,10.3,10.1,10.3,11.0,12.6,14.9,16.9,18.6,20.0,21.1,21.8,22.1,22.0,21.4,20.4,19.2,17.9,16.5,15.1,13.7,12.2]}}\n"
          ]
        }
      ],
      "source": [
        "url = \"https://api.open-meteo.com/v1/forecast\"\n",
        "params = {\n",
        "    \"latitude\": 52.52,\n",
        "    \"longitude\": 13.41,\n",
        "    \"hourly\": \"temperature_2m\"\n",
        "}\n",
        "response = requests.get(url, params=params)\n",
        "print(response.text)\n"
      ]
    },
    {
      "cell_type": "code",
      "execution_count": 18,
      "metadata": {
        "colab": {
          "base_uri": "https://localhost:8080/"
        },
        "id": "be2vInfO3X8l",
        "outputId": "df72dac2-eed5-4231-ef4c-c15446ffc6f9"
      },
      "outputs": [
        {
          "name": "stdout",
          "output_type": "stream",
          "text": [
            "Weather in Dhaka:\n",
            "Temperature: 31.5°C\n",
            "WindSpeed: 3.3 km/h\n",
            "Time: 2025-05-15T12:45\n",
            "JSON file saved successfully.\n",
            "CSV file saved successfully.\n",
            "{\"latitude\":23.75,\"longitude\":90.375,\"generationtime_ms\":0.03325939178466797,\"utc_offset_seconds\":0,\"timezone\":\"GMT\",\"timezone_abbreviation\":\"GMT\",\"elevation\":13.0,\"current_weather_units\":{\"time\":\"iso8601\",\"interval\":\"seconds\",\"temperature\":\"°C\",\"windspeed\":\"km/h\",\"winddirection\":\"°\",\"is_day\":\"\",\"weathercode\":\"wmo code\"},\"current_weather\":{\"time\":\"2025-05-15T12:45\",\"interval\":900,\"temperature\":31.5,\"windspeed\":3.3,\"winddirection\":174,\"is_day\":0,\"weathercode\":3}}\n"
          ]
        }
      ],
      "source": [
        "import json\n",
        "import csv\n",
        "import requests\n",
        "\n",
        "url = \"https://api.open-meteo.com/v1/forecast\"\n",
        "# set parameters (example: Toronto)\n",
        "params = {\n",
        "    \"latitude\": 23.8041,\n",
        "    \"longitude\": 90.4152,\n",
        "    \"current_weather\": True\n",
        "}\n",
        "\n",
        "# Make the GET request\n",
        "response = requests.get(url, params=params)\n",
        "\n",
        "# check response and print\n",
        "if response.status_code == 200:\n",
        "    data = response.json()\n",
        "    weather = data[\"current_weather\"]\n",
        "    print(f\"Weather in Dhaka:\")\n",
        "    print(f\"Temperature: {weather['temperature']}°C\")\n",
        "    print(f\"WindSpeed: {weather['windspeed']} km/h\")\n",
        "    print(f\"Time: {weather['time']}\")\n",
        "\n",
        "\n",
        "    #stop 3a: save to JSON\n",
        "    with open(\"weather_dhaka.json\", \"w\") as json_file:\n",
        "        json.dump(weather, json_file, indent=4)\n",
        "        print(\"JSON file saved successfully.\")\n",
        "\n",
        "    #stop 3a: save to CSV\n",
        "    with open(\"weather_dhaka.csv\", \"w\", newline=\"\") as csv_file:\n",
        "        writer = csv.DictWriter(csv_file, fieldnames=weather.keys())\n",
        "        writer.writeheader()\n",
        "        writer.writerow(weather)\n",
        "        print(\"CSV file saved successfully.\")\n",
        "\n",
        "else:\n",
        "    print(\"Error:\", response.status_code)\n",
        "print(response.text)"
      ]
    },
    {
      "cell_type": "markdown",
      "metadata": {
        "id": "v4VV5nmoA3g6"
      },
      "source": [
        "# Part2           web scriping->take data from website"
      ]
    },
    {
      "cell_type": "code",
      "execution_count": 19,
      "metadata": {
        "colab": {
          "base_uri": "https://localhost:8080/"
        },
        "id": "UsD7dSLn3YIj",
        "outputId": "09b3e5bf-4707-42eb-e0fc-aba305cfe5ea"
      },
      "outputs": [
        {
          "name": "stdout",
          "output_type": "stream",
          "text": [
            "Requirement already satisfied: requests in /usr/local/lib/python3.11/dist-packages (2.32.3)\n",
            "Requirement already satisfied: beautifulsoup4 in /usr/local/lib/python3.11/dist-packages (4.13.4)\n",
            "Requirement already satisfied: charset-normalizer<4,>=2 in /usr/local/lib/python3.11/dist-packages (from requests) (3.4.2)\n",
            "Requirement already satisfied: idna<4,>=2.5 in /usr/local/lib/python3.11/dist-packages (from requests) (3.10)\n",
            "Requirement already satisfied: urllib3<3,>=1.21.1 in /usr/local/lib/python3.11/dist-packages (from requests) (2.4.0)\n",
            "Requirement already satisfied: certifi>=2017.4.17 in /usr/local/lib/python3.11/dist-packages (from requests) (2025.4.26)\n",
            "Requirement already satisfied: soupsieve>1.2 in /usr/local/lib/python3.11/dist-packages (from beautifulsoup4) (2.7)\n",
            "Requirement already satisfied: typing-extensions>=4.0.0 in /usr/local/lib/python3.11/dist-packages (from beautifulsoup4) (4.13.2)\n"
          ]
        }
      ],
      "source": [
        "!pip install requests beautifulsoup4"
      ]
    },
    {
      "cell_type": "code",
      "execution_count": 20,
      "metadata": {
        "id": "jkhCOx79Acqh"
      },
      "outputs": [],
      "source": [
        "import requests"
      ]
    },
    {
      "cell_type": "code",
      "execution_count": 22,
      "metadata": {
        "colab": {
          "base_uri": "https://localhost:8080/"
        },
        "id": "ztFdtqqbDmv7",
        "outputId": "fa1fb717-643e-4070-a48a-5bce6871f587"
      },
      "outputs": [
        {
          "name": "stdout",
          "output_type": "stream",
          "text": [
            "Requirement already satisfied: beautifulsoup4 in /usr/local/lib/python3.11/dist-packages (4.13.4)\n",
            "Requirement already satisfied: soupsieve>1.2 in /usr/local/lib/python3.11/dist-packages (from beautifulsoup4) (2.7)\n",
            "Requirement already satisfied: typing-extensions>=4.0.0 in /usr/local/lib/python3.11/dist-packages (from beautifulsoup4) (4.13.2)\n"
          ]
        }
      ],
      "source": [
        "!pip install beautifulsoup4"
      ]
    },
    {
      "cell_type": "code",
      "execution_count": 33,
      "metadata": {
        "id": "F4P-ixKbAcyr"
      },
      "outputs": [],
      "source": [
        "from bs4 import BeautifulSoup\n",
        "soup=BeautifulSoup(html_content,\"html.parser\")\n"
      ]
    },
    {
      "cell_type": "code",
      "execution_count": 34,
      "metadata": {
        "colab": {
          "base_uri": "https://localhost:8080/"
        },
        "id": "KpHmeBagFEOU",
        "outputId": "62e77955-53f1-4767-f7b5-67691d5d5895"
      },
      "outputs": [
        {
          "name": "stdout",
          "output_type": "stream",
          "text": [
            "<!DOCTYPE html>\n",
            "\n",
            "<html>\n",
            "<head>\n",
            "<title>Example Domain</title>\n",
            "<meta charset=\"utf-8\"/>\n",
            "<meta content=\"text/html; charset=utf-8\" http-equiv=\"Content-type\"/>\n",
            "<meta content=\"width=device-width, initial-scale=1\" name=\"viewport\"/>\n",
            "<style type=\"text/css\">\n",
            "    body {\n",
            "        background-color: #f0f0f2;\n",
            "        margin: 0;\n",
            "        padding: 0;\n",
            "        font-family: -apple-system, system-ui, BlinkMacSystemFont, \"Segoe UI\", \"Open Sans\", \"Helvetica Neue\", Helvetica, Arial, sans-serif;\n",
            "        \n",
            "    }\n",
            "    div {\n",
            "        width: 600px;\n",
            "        margin: 5em auto;\n",
            "        padding: 2em;\n",
            "        background-color: #fdfdff;\n",
            "        border-radius: 0.5em;\n",
            "        box-shadow: 2px 3px 7px 2px rgba(0,0,0,0.02);\n",
            "    }\n",
            "    a:link, a:visited {\n",
            "        color: #38488f;\n",
            "        text-decoration: none;\n",
            "    }\n",
            "    @media (max-width: 700px) {\n",
            "        div {\n",
            "            margin: 0 auto;\n",
            "            width: auto;\n",
            "        }\n",
            "    }\n",
            "    </style>\n",
            "</head>\n",
            "<body>\n",
            "<div>\n",
            "<h1>Example Domain</h1>\n",
            "<p>This domain is for use in illustrative examples in documents. You may use this\n",
            "    domain in literature without prior coordination or asking for permission.</p>\n",
            "<p><a href=\"https://www.iana.org/domains/example\">More information...</a></p>\n",
            "</div>\n",
            "</body>\n",
            "</html>\n",
            "\n"
          ]
        }
      ],
      "source": [
        "print(soup)"
      ]
    },
    {
      "cell_type": "code",
      "execution_count": 28,
      "metadata": {
        "colab": {
          "base_uri": "https://localhost:8080/"
        },
        "id": "ZvOmBwiQAc1L",
        "outputId": "f908b02e-7e45-4734-ad1f-a4072491975a"
      },
      "outputs": [
        {
          "name": "stdout",
          "output_type": "stream",
          "text": [
            "<!doctype html>\n",
            "<html>\n",
            "<head>\n",
            "    <title>Example Domain</title>\n",
            "\n",
            "    <meta charset=\"utf-8\" />\n",
            "    <meta http-equiv=\"Content-type\" content=\"text/html; charset=utf-8\" />\n",
            "    <meta name=\"viewport\" content=\"width=device-width, initial-scale=1\" />\n",
            "    <style type=\"text/css\">\n",
            "    body {\n",
            "        background-color: #f0f0f2;\n",
            "        margin: 0;\n",
            "        padding: 0;\n",
            "        font-family: -apple-system, system-ui, BlinkMacSystemFont, \"Segoe UI\", \"Open Sans\", \"Helvetica Neue\", Helvetica, Arial, sans-serif;\n",
            "    \n"
          ]
        }
      ],
      "source": [
        "url = \"https://example.com\"\n",
        "response = requests.get(url)\n",
        "html_content = response.text\n",
        "print(html_content[:500])"
      ]
    },
    {
      "cell_type": "code",
      "execution_count": 36,
      "metadata": {
        "colab": {
          "base_uri": "https://localhost:8080/"
        },
        "id": "FRq1-lnK3YLI",
        "outputId": "7002789b-dce7-43fd-d61d-78818f51905d"
      },
      "outputs": [
        {
          "name": "stdout",
          "output_type": "stream",
          "text": [
            "More information...\n"
          ]
        }
      ],
      "source": [
        "headings = soup.find_all(\"a\")\n",
        "\n",
        "for h in headings:\n",
        "    print(h.text.strip())"
      ]
    },
    {
      "cell_type": "code",
      "execution_count": 37,
      "metadata": {
        "colab": {
          "base_uri": "https://localhost:8080/"
        },
        "id": "_343dd0uH99E",
        "outputId": "7e928328-611d-4801-b746-f9b4fedd31c4"
      },
      "outputs": [
        {
          "name": "stdout",
          "output_type": "stream",
          "text": [
            "links: [<p>This domain is for use in illustrative examples in documents. You may use this\n",
            "    domain in literature without prior coordination or asking for permission.</p>, <p><a href=\"https://www.iana.org/domains/example\">More information...</a></p>]\n",
            "None\n",
            "None\n"
          ]
        }
      ],
      "source": [
        "links = soup.find_all(\"p\")\n",
        "print(\"links:\", links)\n",
        "\n",
        "# for link in links:\n",
        "#     print(link.get(\"href\"))"
      ]
    },
    {
      "cell_type": "code",
      "execution_count": 38,
      "metadata": {
        "colab": {
          "base_uri": "https://localhost:8080/"
        },
        "id": "lZEMiuhNJBun",
        "outputId": "a996d5ea-7b17-4cee-a87d-d476eec6b927"
      },
      "outputs": [
        {
          "name": "stdout",
          "output_type": "stream",
          "text": [
            "Latest Python News:\n",
            "2025-05-16 - PiterPy 2025\n",
            "2025-05-16 - PyGrunn 2025\n",
            "2025-05-16 - Flask Con 2025\n",
            "2025-05-17 - PyCaxias 2025\n",
            "2025-05-18 - Django Girls Caxias do Sul 2025\n"
          ]
        }
      ],
      "source": [
        "#step 1: fetch the webpage\n",
        "url = \"https://www.python.org\"\n",
        "response = requests.get(url)\n",
        "soup=BeautifulSoup(response.text,\"html.parser\")\n",
        "\n",
        "#print(soup)\n",
        "\n",
        "#step 2: Find the news section\n",
        "news = soup.find(\"div\", class_=\"medium-widget event-widget last\")\n",
        "headlines = news.find_all(\"li\")\n",
        "\n",
        "#step 3: print the headlines\n",
        "print(\"Latest Python News:\")\n",
        "\n",
        "for item in headlines:\n",
        "    title = item.find(\"a\").text.strip()\n",
        "    date = item.find(\"time\").text.strip()\n",
        "    print(f\"{date} - {title}\")\n"
      ]
    },
    {
      "cell_type": "code",
      "execution_count": 39,
      "metadata": {
        "colab": {
          "base_uri": "https://localhost:8080/"
        },
        "id": "4aF14VSCJBxh",
        "outputId": "f61fa118-da2d-4a07-db29-e6afcea25b83"
      },
      "outputs": [
        {
          "name": "stdout",
          "output_type": "stream",
          "text": [
            "[<a href=\"https://www.iana.org/domains/example\">More information...</a>]\n"
          ]
        }
      ],
      "source": [
        "news = soup.find(\"div\", class_=\"medium-widget event-widget last\")\n",
        "headlines = news.find_all(\"p\")\n",
        "print(headings)"
      ]
    },
    {
      "cell_type": "code",
      "execution_count": 40,
      "metadata": {
        "colab": {
          "base_uri": "https://localhost:8080/"
        },
        "collapsed": true,
        "id": "1WpoHk7HNz8y",
        "outputId": "2b9f1a64-f7be-4af5-e29d-92cf639baf75"
      },
      "outputs": [
        {
          "name": "stdout",
          "output_type": "stream",
          "text": [
            "<!DOCTYPE html>\n",
            "\n",
            "<html lang=\"en\">\n",
            "<head>\n",
            "<meta charset=\"utf-8\"/>\n",
            "<title>Quotes to Scrape</title>\n",
            "<link href=\"/static/bootstrap.min.css\" rel=\"stylesheet\"/>\n",
            "<link href=\"/static/main.css\" rel=\"stylesheet\"/>\n",
            "</head>\n",
            "<body>\n",
            "<div class=\"container\">\n",
            "<div class=\"row header-box\">\n",
            "<div class=\"col-md-8\">\n",
            "<h1>\n",
            "<a href=\"/\" style=\"text-decoration: none\">Quotes to Scrape</a>\n",
            "</h1>\n",
            "</div>\n",
            "<div class=\"col-md-4\">\n",
            "<p>\n",
            "<a href=\"/login\">Login</a>\n",
            "</p>\n",
            "</div>\n",
            "</div>\n",
            "<div class=\"row\">\n",
            "<div class=\"col-md-8\">\n",
            "<div class=\"quote\" itemscope=\"\" itemtype=\"http://schema.org/CreativeWork\">\n",
            "<span class=\"text\" itemprop=\"text\">“The world as we have created it is a process of our thinking. It cannot be changed without changing our thinking.”</span>\n",
            "<span>by <small class=\"author\" itemprop=\"author\">Albert Einstein</small>\n",
            "<a href=\"/author/Albert-Einstein\">(about)</a>\n",
            "</span>\n",
            "<div class=\"tags\">\n",
            "            Tags:\n",
            "            <meta class=\"keywords\" content=\"change,deep-thoughts,thinking,world\" itemprop=\"keywords\"/>\n",
            "<a class=\"tag\" href=\"/tag/change/page/1/\">change</a>\n",
            "<a class=\"tag\" href=\"/tag/deep-thoughts/page/1/\">deep-thoughts</a>\n",
            "<a class=\"tag\" href=\"/tag/thinking/page/1/\">thinking</a>\n",
            "<a class=\"tag\" href=\"/tag/world/page/1/\">world</a>\n",
            "</div>\n",
            "</div>\n",
            "<div class=\"quote\" itemscope=\"\" itemtype=\"http://schema.org/CreativeWork\">\n",
            "<span class=\"text\" itemprop=\"text\">“It is our choices, Harry, that show what we truly are, far more than our abilities.”</span>\n",
            "<span>by <small class=\"author\" itemprop=\"author\">J.K. Rowling</small>\n",
            "<a href=\"/author/J-K-Rowling\">(about)</a>\n",
            "</span>\n",
            "<div class=\"tags\">\n",
            "            Tags:\n",
            "            <meta class=\"keywords\" content=\"abilities,choices\" itemprop=\"keywords\"/>\n",
            "<a class=\"tag\" href=\"/tag/abilities/page/1/\">abilities</a>\n",
            "<a class=\"tag\" href=\"/tag/choices/page/1/\">choices</a>\n",
            "</div>\n",
            "</div>\n",
            "<div class=\"quote\" itemscope=\"\" itemtype=\"http://schema.org/CreativeWork\">\n",
            "<span class=\"text\" itemprop=\"text\">“There are only two ways to live your life. One is as though nothing is a miracle. The other is as though everything is a miracle.”</span>\n",
            "<span>by <small class=\"author\" itemprop=\"author\">Albert Einstein</small>\n",
            "<a href=\"/author/Albert-Einstein\">(about)</a>\n",
            "</span>\n",
            "<div class=\"tags\">\n",
            "            Tags:\n",
            "            <meta class=\"keywords\" content=\"inspirational,life,live,miracle,miracles\" itemprop=\"keywords\"/>\n",
            "<a class=\"tag\" href=\"/tag/inspirational/page/1/\">inspirational</a>\n",
            "<a class=\"tag\" href=\"/tag/life/page/1/\">life</a>\n",
            "<a class=\"tag\" href=\"/tag/live/page/1/\">live</a>\n",
            "<a class=\"tag\" href=\"/tag/miracle/page/1/\">miracle</a>\n",
            "<a class=\"tag\" href=\"/tag/miracles/page/1/\">miracles</a>\n",
            "</div>\n",
            "</div>\n",
            "<div class=\"quote\" itemscope=\"\" itemtype=\"http://schema.org/CreativeWork\">\n",
            "<span class=\"text\" itemprop=\"text\">“The person, be it gentleman or lady, who has not pleasure in a good novel, must be intolerably stupid.”</span>\n",
            "<span>by <small class=\"author\" itemprop=\"author\">Jane Austen</small>\n",
            "<a href=\"/author/Jane-Austen\">(about)</a>\n",
            "</span>\n",
            "<div class=\"tags\">\n",
            "            Tags:\n",
            "            <meta class=\"keywords\" content=\"aliteracy,books,classic,humor\" itemprop=\"keywords\"/>\n",
            "<a class=\"tag\" href=\"/tag/aliteracy/page/1/\">aliteracy</a>\n",
            "<a class=\"tag\" href=\"/tag/books/page/1/\">books</a>\n",
            "<a class=\"tag\" href=\"/tag/classic/page/1/\">classic</a>\n",
            "<a class=\"tag\" href=\"/tag/humor/page/1/\">humor</a>\n",
            "</div>\n",
            "</div>\n",
            "<div class=\"quote\" itemscope=\"\" itemtype=\"http://schema.org/CreativeWork\">\n",
            "<span class=\"text\" itemprop=\"text\">“Imperfection is beauty, madness is genius and it's better to be absolutely ridiculous than absolutely boring.”</span>\n",
            "<span>by <small class=\"author\" itemprop=\"author\">Marilyn Monroe</small>\n",
            "<a href=\"/author/Marilyn-Monroe\">(about)</a>\n",
            "</span>\n",
            "<div class=\"tags\">\n",
            "            Tags:\n",
            "            <meta class=\"keywords\" content=\"be-yourself,inspirational\" itemprop=\"keywords\"/>\n",
            "<a class=\"tag\" href=\"/tag/be-yourself/page/1/\">be-yourself</a>\n",
            "<a class=\"tag\" href=\"/tag/inspirational/page/1/\">inspirational</a>\n",
            "</div>\n",
            "</div>\n",
            "<div class=\"quote\" itemscope=\"\" itemtype=\"http://schema.org/CreativeWork\">\n",
            "<span class=\"text\" itemprop=\"text\">“Try not to become a man of success. Rather become a man of value.”</span>\n",
            "<span>by <small class=\"author\" itemprop=\"author\">Albert Einstein</small>\n",
            "<a href=\"/author/Albert-Einstein\">(about)</a>\n",
            "</span>\n",
            "<div class=\"tags\">\n",
            "            Tags:\n",
            "            <meta class=\"keywords\" content=\"adulthood,success,value\" itemprop=\"keywords\"/>\n",
            "<a class=\"tag\" href=\"/tag/adulthood/page/1/\">adulthood</a>\n",
            "<a class=\"tag\" href=\"/tag/success/page/1/\">success</a>\n",
            "<a class=\"tag\" href=\"/tag/value/page/1/\">value</a>\n",
            "</div>\n",
            "</div>\n",
            "<div class=\"quote\" itemscope=\"\" itemtype=\"http://schema.org/CreativeWork\">\n",
            "<span class=\"text\" itemprop=\"text\">“It is better to be hated for what you are than to be loved for what you are not.”</span>\n",
            "<span>by <small class=\"author\" itemprop=\"author\">André Gide</small>\n",
            "<a href=\"/author/Andre-Gide\">(about)</a>\n",
            "</span>\n",
            "<div class=\"tags\">\n",
            "            Tags:\n",
            "            <meta class=\"keywords\" content=\"life,love\" itemprop=\"keywords\"/>\n",
            "<a class=\"tag\" href=\"/tag/life/page/1/\">life</a>\n",
            "<a class=\"tag\" href=\"/tag/love/page/1/\">love</a>\n",
            "</div>\n",
            "</div>\n",
            "<div class=\"quote\" itemscope=\"\" itemtype=\"http://schema.org/CreativeWork\">\n",
            "<span class=\"text\" itemprop=\"text\">“I have not failed. I've just found 10,000 ways that won't work.”</span>\n",
            "<span>by <small class=\"author\" itemprop=\"author\">Thomas A. Edison</small>\n",
            "<a href=\"/author/Thomas-A-Edison\">(about)</a>\n",
            "</span>\n",
            "<div class=\"tags\">\n",
            "            Tags:\n",
            "            <meta class=\"keywords\" content=\"edison,failure,inspirational,paraphrased\" itemprop=\"keywords\"/>\n",
            "<a class=\"tag\" href=\"/tag/edison/page/1/\">edison</a>\n",
            "<a class=\"tag\" href=\"/tag/failure/page/1/\">failure</a>\n",
            "<a class=\"tag\" href=\"/tag/inspirational/page/1/\">inspirational</a>\n",
            "<a class=\"tag\" href=\"/tag/paraphrased/page/1/\">paraphrased</a>\n",
            "</div>\n",
            "</div>\n",
            "<div class=\"quote\" itemscope=\"\" itemtype=\"http://schema.org/CreativeWork\">\n",
            "<span class=\"text\" itemprop=\"text\">“A woman is like a tea bag; you never know how strong it is until it's in hot water.”</span>\n",
            "<span>by <small class=\"author\" itemprop=\"author\">Eleanor Roosevelt</small>\n",
            "<a href=\"/author/Eleanor-Roosevelt\">(about)</a>\n",
            "</span>\n",
            "<div class=\"tags\">\n",
            "            Tags:\n",
            "            <meta class=\"keywords\" content=\"misattributed-eleanor-roosevelt\" itemprop=\"keywords\"/>\n",
            "<a class=\"tag\" href=\"/tag/misattributed-eleanor-roosevelt/page/1/\">misattributed-eleanor-roosevelt</a>\n",
            "</div>\n",
            "</div>\n",
            "<div class=\"quote\" itemscope=\"\" itemtype=\"http://schema.org/CreativeWork\">\n",
            "<span class=\"text\" itemprop=\"text\">“A day without sunshine is like, you know, night.”</span>\n",
            "<span>by <small class=\"author\" itemprop=\"author\">Steve Martin</small>\n",
            "<a href=\"/author/Steve-Martin\">(about)</a>\n",
            "</span>\n",
            "<div class=\"tags\">\n",
            "            Tags:\n",
            "            <meta class=\"keywords\" content=\"humor,obvious,simile\" itemprop=\"keywords\"/>\n",
            "<a class=\"tag\" href=\"/tag/humor/page/1/\">humor</a>\n",
            "<a class=\"tag\" href=\"/tag/obvious/page/1/\">obvious</a>\n",
            "<a class=\"tag\" href=\"/tag/simile/page/1/\">simile</a>\n",
            "</div>\n",
            "</div>\n",
            "<nav>\n",
            "<ul class=\"pager\">\n",
            "<li class=\"next\">\n",
            "<a href=\"/page/2/\">Next <span aria-hidden=\"true\">→</span></a>\n",
            "</li>\n",
            "</ul>\n",
            "</nav>\n",
            "</div>\n",
            "<div class=\"col-md-4 tags-box\">\n",
            "<h2>Top Ten tags</h2>\n",
            "<span class=\"tag-item\">\n",
            "<a class=\"tag\" href=\"/tag/love/\" style=\"font-size: 28px\">love</a>\n",
            "</span>\n",
            "<span class=\"tag-item\">\n",
            "<a class=\"tag\" href=\"/tag/inspirational/\" style=\"font-size: 26px\">inspirational</a>\n",
            "</span>\n",
            "<span class=\"tag-item\">\n",
            "<a class=\"tag\" href=\"/tag/life/\" style=\"font-size: 26px\">life</a>\n",
            "</span>\n",
            "<span class=\"tag-item\">\n",
            "<a class=\"tag\" href=\"/tag/humor/\" style=\"font-size: 24px\">humor</a>\n",
            "</span>\n",
            "<span class=\"tag-item\">\n",
            "<a class=\"tag\" href=\"/tag/books/\" style=\"font-size: 22px\">books</a>\n",
            "</span>\n",
            "<span class=\"tag-item\">\n",
            "<a class=\"tag\" href=\"/tag/reading/\" style=\"font-size: 14px\">reading</a>\n",
            "</span>\n",
            "<span class=\"tag-item\">\n",
            "<a class=\"tag\" href=\"/tag/friendship/\" style=\"font-size: 10px\">friendship</a>\n",
            "</span>\n",
            "<span class=\"tag-item\">\n",
            "<a class=\"tag\" href=\"/tag/friends/\" style=\"font-size: 8px\">friends</a>\n",
            "</span>\n",
            "<span class=\"tag-item\">\n",
            "<a class=\"tag\" href=\"/tag/truth/\" style=\"font-size: 8px\">truth</a>\n",
            "</span>\n",
            "<span class=\"tag-item\">\n",
            "<a class=\"tag\" href=\"/tag/simile/\" style=\"font-size: 6px\">simile</a>\n",
            "</span>\n",
            "</div>\n",
            "</div>\n",
            "</div>\n",
            "<footer class=\"footer\">\n",
            "<div class=\"container\">\n",
            "<p class=\"text-muted\">\n",
            "                Quotes by: <a href=\"https://www.goodreads.com/quotes\">GoodReads.com</a>\n",
            "</p>\n",
            "<p class=\"copyright\">\n",
            "                Made with <span class=\"zyte\">❤</span> by <a class=\"zyte\" href=\"https://www.zyte.com\">Zyte</a>\n",
            "</p>\n",
            "</div>\n",
            "</footer>\n",
            "</body>\n",
            "</html>\n"
          ]
        }
      ],
      "source": [
        "import requests\n",
        "from bs4 import BeautifulSoup\n",
        "\n",
        "url = \"http://quotes.toscrape.com\"\n",
        "response = requests.get(url)\n",
        "soup = BeautifulSoup(response.text, \"html.parser\")\n",
        "print(soup)"
      ]
    },
    {
      "cell_type": "code",
      "execution_count": 41,
      "metadata": {
        "colab": {
          "base_uri": "https://localhost:8080/"
        },
        "id": "SN29U7vbN0AH",
        "outputId": "5303ac0d-75a2-4bab-f279-4fd948b7f1e3"
      },
      "outputs": [
        {
          "name": "stdout",
          "output_type": "stream",
          "text": [
            "“The world as we have created it is a process of our thinking. It cannot be changed without changing our thinking.” - Albert Einstein\n",
            "“It is our choices, Harry, that show what we truly are, far more than our abilities.” - J.K. Rowling\n",
            "“There are only two ways to live your life. One is as though nothing is a miracle. The other is as though everything is a miracle.” - Albert Einstein\n",
            "“The person, be it gentleman or lady, who has not pleasure in a good novel, must be intolerably stupid.” - Jane Austen\n",
            "“Imperfection is beauty, madness is genius and it's better to be absolutely ridiculous than absolutely boring.” - Marilyn Monroe\n",
            "“Try not to become a man of success. Rather become a man of value.” - Albert Einstein\n",
            "“It is better to be hated for what you are than to be loved for what you are not.” - André Gide\n",
            "“I have not failed. I've just found 10,000 ways that won't work.” - Thomas A. Edison\n",
            "“A woman is like a tea bag; you never know how strong it is until it's in hot water.” - Eleanor Roosevelt\n",
            "“A day without sunshine is like, you know, night.” - Steve Martin\n"
          ]
        }
      ],
      "source": [
        "quotes = soup.find_all(\"div\", class_=\"quote\")\n",
        "\n",
        "for quote in quotes:\n",
        "    text = quote.find(\"span\", class_=\"text\").text.strip()\n",
        "    author = quote.find(\"small\", class_=\"author\").text.strip()\n",
        "    print(f\"{text} - {author}\")"
      ]
    },
    {
      "cell_type": "code",
      "execution_count": 42,
      "metadata": {
        "colab": {
          "base_uri": "https://localhost:8080/"
        },
        "id": "IWdbSbyrPMLt",
        "outputId": "5bfe7f74-5a9d-4b32-95e8-5e521b72b4ec"
      },
      "outputs": [
        {
          "name": "stdout",
          "output_type": "stream",
          "text": [
            "JSON file saved successfully.\n"
          ]
        }
      ],
      "source": [
        "import requests\n",
        "from bs4 import BeautifulSoup\n",
        "import csv\n",
        "import json\n",
        "\n",
        "# step 1: Fetch the page\n",
        "url = \"http://quotes.toscrape.com\"\n",
        "response = requests.get(url)\n",
        "soup= BeautifulSoup(response.text,\"html.parser\")\n",
        "\n",
        "# step 2: Extract quotes and authors\n",
        "quotes_data = []\n",
        "\n",
        "quotes = soup.find_all(\"div\", class_=\"quote\")\n",
        "for quote in quotes:\n",
        "    text = quote.find(\"span\", class_=\"text\").text.strip()\n",
        "    author = quote.find(\"small\", class_=\"author\").text.strip()\n",
        "    quotes_data.append({\"Quote\": text, \"Author\": author})\n",
        "\n",
        "# step 3: Save to JSON\n",
        "with open(\"quotes.json\", \"w\", encoding='utf-8') as json_file:\n",
        "    json.dump(quotes_data, json_file, indent=4, ensure_ascii=False)\n",
        "    print(\"JSON file saved successfully.\")"
      ]
    },
    {
      "cell_type": "markdown",
      "metadata": {
        "id": "dmhV78QyXaPL"
      },
      "source": [
        "**Missing values**"
      ]
    },
    {
      "cell_type": "code",
      "execution_count": 43,
      "metadata": {
        "colab": {
          "base_uri": "https://localhost:8080/"
        },
        "id": "bjeEFtxaXY7O",
        "outputId": "be7e8cfe-162c-4662-f3fe-fc22546a0697"
      },
      "outputs": [
        {
          "name": "stdout",
          "output_type": "stream",
          "text": [
            "<class 'dict'>\n",
            "25\n",
            "None\n"
          ]
        }
      ],
      "source": [
        "data = {\"Name\":\"John\", \"Age\": 25, \"Email\":\"john@example.com\", \"Salary\": 5000}\n",
        "print(type(data))\n",
        "print(print(data[\"Age\"]))"
      ]
    },
    {
      "cell_type": "code",
      "execution_count": 49,
      "metadata": {
        "colab": {
          "base_uri": "https://localhost:8080/"
        },
        "id": "sYgzo_4wXZBB",
        "outputId": "171905ca-47c9-47c6-de00-de449e3734a2"
      },
      "outputs": [
        {
          "name": "stdout",
          "output_type": "stream",
          "text": [
            "{'Name': 'Linda', 'Age': None, 'Email': 'john@example.com', 'Salary': None}\n",
            "    Name   Age             Email  Salary\n",
            "0   John   NaN  john@example.com     NaN\n",
            "1   None  29.0           missing  5000.0\n",
            "2  Linda   NaN  john@example.com     NaN\n",
            "3   Mike  22.0  john@example.com  5000.0\n"
          ]
        }
      ],
      "source": [
        "import pandas as pd\n",
        "\n",
        "data = [\n",
        "    {\"Name\":\"John\", \"Age\": None, \"Email\":\"john@example.com\", \"Salary\": None},\n",
        "    {\"Name\": None, \"Age\": 29, \"Email\":\"missing\", \"Salary\": 5000},\n",
        "    {\"Name\":\"Linda\", \"Age\": None, \"Email\":\"john@example.com\", \"Salary\": None},\n",
        "    {\"Name\":\"Mike\", \"Age\": 22, \"Email\":\"john@example.com\", \"Salary\": 5000},\n",
        "]\n",
        "print((data[2]))\n",
        "\n",
        "# step 2: Create Dataframe\n",
        "df = pd.DataFrame(data)\n",
        "print(df)"
      ]
    },
    {
      "cell_type": "code",
      "execution_count": 47,
      "metadata": {
        "colab": {
          "base_uri": "https://localhost:8080/"
        },
        "id": "DJK5f58jXZF2",
        "outputId": "73f21fcc-5c5a-4430-94c7-6f518ad7b8c3"
      },
      "outputs": [
        {
          "name": "stdout",
          "output_type": "stream",
          "text": [
            "CSV file saved successfully.\n"
          ]
        }
      ],
      "source": [
        "df.to_csv(\"people_data.csv\", index=False)\n",
        "print(\"CSV file saved successfully.\")"
      ]
    },
    {
      "cell_type": "code",
      "execution_count": 51,
      "metadata": {
        "colab": {
          "base_uri": "https://localhost:8080/"
        },
        "id": "iw1fHZ8-XZJS",
        "outputId": "7861d1cc-720f-458e-b609-d5a6c782ada9"
      },
      "outputs": [
        {
          "name": "stdout",
          "output_type": "stream",
          "text": [
            "Name      1\n",
            "Age       2\n",
            "Email     0\n",
            "Salary    2\n",
            "dtype: int64\n"
          ]
        }
      ],
      "source": [
        "print(df.isnull().sum())"
      ]
    },
    {
      "cell_type": "code",
      "execution_count": 52,
      "metadata": {
        "id": "DAst8IklXZMd"
      },
      "outputs": [],
      "source": [
        "df.dropna(inplace=True) # Remove rows with any missing value\n",
        "df.fillna(0, inplace=True) # Replace missing values with 0"
      ]
    },
    {
      "cell_type": "code",
      "execution_count": 53,
      "metadata": {
        "colab": {
          "base_uri": "https://localhost:8080/",
          "height": 89
        },
        "id": "YU7VM9GwaZtK",
        "outputId": "c598efc4-37a1-402c-e4be-c98b566af44e"
      },
      "outputs": [
        {
          "data": {
            "application/vnd.google.colaboratory.intrinsic+json": {
              "summary": "{\n  \"name\": \"df\",\n  \"rows\": 1,\n  \"fields\": [\n    {\n      \"column\": \"Name\",\n      \"properties\": {\n        \"dtype\": \"string\",\n        \"num_unique_values\": 1,\n        \"samples\": [\n          \"Mike\"\n        ],\n        \"semantic_type\": \"\",\n        \"description\": \"\"\n      }\n    },\n    {\n      \"column\": \"Age\",\n      \"properties\": {\n        \"dtype\": \"number\",\n        \"std\": null,\n        \"min\": 22.0,\n        \"max\": 22.0,\n        \"num_unique_values\": 1,\n        \"samples\": [\n          22.0\n        ],\n        \"semantic_type\": \"\",\n        \"description\": \"\"\n      }\n    },\n    {\n      \"column\": \"Email\",\n      \"properties\": {\n        \"dtype\": \"string\",\n        \"num_unique_values\": 1,\n        \"samples\": [\n          \"john@example.com\"\n        ],\n        \"semantic_type\": \"\",\n        \"description\": \"\"\n      }\n    },\n    {\n      \"column\": \"Salary\",\n      \"properties\": {\n        \"dtype\": \"number\",\n        \"std\": null,\n        \"min\": 5000.0,\n        \"max\": 5000.0,\n        \"num_unique_values\": 1,\n        \"samples\": [\n          5000.0\n        ],\n        \"semantic_type\": \"\",\n        \"description\": \"\"\n      }\n    }\n  ]\n}",
              "type": "dataframe",
              "variable_name": "df"
            },
            "text/html": [
              "\n",
              "  <div id=\"df-7c7a9646-5e5f-4598-abd5-130159ef8318\" class=\"colab-df-container\">\n",
              "    <div>\n",
              "<style scoped>\n",
              "    .dataframe tbody tr th:only-of-type {\n",
              "        vertical-align: middle;\n",
              "    }\n",
              "\n",
              "    .dataframe tbody tr th {\n",
              "        vertical-align: top;\n",
              "    }\n",
              "\n",
              "    .dataframe thead th {\n",
              "        text-align: right;\n",
              "    }\n",
              "</style>\n",
              "<table border=\"1\" class=\"dataframe\">\n",
              "  <thead>\n",
              "    <tr style=\"text-align: right;\">\n",
              "      <th></th>\n",
              "      <th>Name</th>\n",
              "      <th>Age</th>\n",
              "      <th>Email</th>\n",
              "      <th>Salary</th>\n",
              "    </tr>\n",
              "  </thead>\n",
              "  <tbody>\n",
              "    <tr>\n",
              "      <th>3</th>\n",
              "      <td>Mike</td>\n",
              "      <td>22.0</td>\n",
              "      <td>john@example.com</td>\n",
              "      <td>5000.0</td>\n",
              "    </tr>\n",
              "  </tbody>\n",
              "</table>\n",
              "</div>\n",
              "    <div class=\"colab-df-buttons\">\n",
              "\n",
              "  <div class=\"colab-df-container\">\n",
              "    <button class=\"colab-df-convert\" onclick=\"convertToInteractive('df-7c7a9646-5e5f-4598-abd5-130159ef8318')\"\n",
              "            title=\"Convert this dataframe to an interactive table.\"\n",
              "            style=\"display:none;\">\n",
              "\n",
              "  <svg xmlns=\"http://www.w3.org/2000/svg\" height=\"24px\" viewBox=\"0 -960 960 960\">\n",
              "    <path d=\"M120-120v-720h720v720H120Zm60-500h600v-160H180v160Zm220 220h160v-160H400v160Zm0 220h160v-160H400v160ZM180-400h160v-160H180v160Zm440 0h160v-160H620v160ZM180-180h160v-160H180v160Zm440 0h160v-160H620v160Z\"/>\n",
              "  </svg>\n",
              "    </button>\n",
              "\n",
              "  <style>\n",
              "    .colab-df-container {\n",
              "      display:flex;\n",
              "      gap: 12px;\n",
              "    }\n",
              "\n",
              "    .colab-df-convert {\n",
              "      background-color: #E8F0FE;\n",
              "      border: none;\n",
              "      border-radius: 50%;\n",
              "      cursor: pointer;\n",
              "      display: none;\n",
              "      fill: #1967D2;\n",
              "      height: 32px;\n",
              "      padding: 0 0 0 0;\n",
              "      width: 32px;\n",
              "    }\n",
              "\n",
              "    .colab-df-convert:hover {\n",
              "      background-color: #E2EBFA;\n",
              "      box-shadow: 0px 1px 2px rgba(60, 64, 67, 0.3), 0px 1px 3px 1px rgba(60, 64, 67, 0.15);\n",
              "      fill: #174EA6;\n",
              "    }\n",
              "\n",
              "    .colab-df-buttons div {\n",
              "      margin-bottom: 4px;\n",
              "    }\n",
              "\n",
              "    [theme=dark] .colab-df-convert {\n",
              "      background-color: #3B4455;\n",
              "      fill: #D2E3FC;\n",
              "    }\n",
              "\n",
              "    [theme=dark] .colab-df-convert:hover {\n",
              "      background-color: #434B5C;\n",
              "      box-shadow: 0px 1px 3px 1px rgba(0, 0, 0, 0.15);\n",
              "      filter: drop-shadow(0px 1px 2px rgba(0, 0, 0, 0.3));\n",
              "      fill: #FFFFFF;\n",
              "    }\n",
              "  </style>\n",
              "\n",
              "    <script>\n",
              "      const buttonEl =\n",
              "        document.querySelector('#df-7c7a9646-5e5f-4598-abd5-130159ef8318 button.colab-df-convert');\n",
              "      buttonEl.style.display =\n",
              "        google.colab.kernel.accessAllowed ? 'block' : 'none';\n",
              "\n",
              "      async function convertToInteractive(key) {\n",
              "        const element = document.querySelector('#df-7c7a9646-5e5f-4598-abd5-130159ef8318');\n",
              "        const dataTable =\n",
              "          await google.colab.kernel.invokeFunction('convertToInteractive',\n",
              "                                                    [key], {});\n",
              "        if (!dataTable) return;\n",
              "\n",
              "        const docLinkHtml = 'Like what you see? Visit the ' +\n",
              "          '<a target=\"_blank\" href=https://colab.research.google.com/notebooks/data_table.ipynb>data table notebook</a>'\n",
              "          + ' to learn more about interactive tables.';\n",
              "        element.innerHTML = '';\n",
              "        dataTable['output_type'] = 'display_data';\n",
              "        await google.colab.output.renderOutput(dataTable, element);\n",
              "        const docLink = document.createElement('div');\n",
              "        docLink.innerHTML = docLinkHtml;\n",
              "        element.appendChild(docLink);\n",
              "      }\n",
              "    </script>\n",
              "  </div>\n",
              "\n",
              "\n",
              "  <div id=\"id_617cf052-ac2c-41d4-8e0a-ae5d95883ca7\">\n",
              "    <style>\n",
              "      .colab-df-generate {\n",
              "        background-color: #E8F0FE;\n",
              "        border: none;\n",
              "        border-radius: 50%;\n",
              "        cursor: pointer;\n",
              "        display: none;\n",
              "        fill: #1967D2;\n",
              "        height: 32px;\n",
              "        padding: 0 0 0 0;\n",
              "        width: 32px;\n",
              "      }\n",
              "\n",
              "      .colab-df-generate:hover {\n",
              "        background-color: #E2EBFA;\n",
              "        box-shadow: 0px 1px 2px rgba(60, 64, 67, 0.3), 0px 1px 3px 1px rgba(60, 64, 67, 0.15);\n",
              "        fill: #174EA6;\n",
              "      }\n",
              "\n",
              "      [theme=dark] .colab-df-generate {\n",
              "        background-color: #3B4455;\n",
              "        fill: #D2E3FC;\n",
              "      }\n",
              "\n",
              "      [theme=dark] .colab-df-generate:hover {\n",
              "        background-color: #434B5C;\n",
              "        box-shadow: 0px 1px 3px 1px rgba(0, 0, 0, 0.15);\n",
              "        filter: drop-shadow(0px 1px 2px rgba(0, 0, 0, 0.3));\n",
              "        fill: #FFFFFF;\n",
              "      }\n",
              "    </style>\n",
              "    <button class=\"colab-df-generate\" onclick=\"generateWithVariable('df')\"\n",
              "            title=\"Generate code using this dataframe.\"\n",
              "            style=\"display:none;\">\n",
              "\n",
              "  <svg xmlns=\"http://www.w3.org/2000/svg\" height=\"24px\"viewBox=\"0 0 24 24\"\n",
              "       width=\"24px\">\n",
              "    <path d=\"M7,19H8.4L18.45,9,17,7.55,7,17.6ZM5,21V16.75L18.45,3.32a2,2,0,0,1,2.83,0l1.4,1.43a1.91,1.91,0,0,1,.58,1.4,1.91,1.91,0,0,1-.58,1.4L9.25,21ZM18.45,9,17,7.55Zm-12,3A5.31,5.31,0,0,0,4.9,8.1,5.31,5.31,0,0,0,1,6.5,5.31,5.31,0,0,0,4.9,4.9,5.31,5.31,0,0,0,6.5,1,5.31,5.31,0,0,0,8.1,4.9,5.31,5.31,0,0,0,12,6.5,5.46,5.46,0,0,0,6.5,12Z\"/>\n",
              "  </svg>\n",
              "    </button>\n",
              "    <script>\n",
              "      (() => {\n",
              "      const buttonEl =\n",
              "        document.querySelector('#id_617cf052-ac2c-41d4-8e0a-ae5d95883ca7 button.colab-df-generate');\n",
              "      buttonEl.style.display =\n",
              "        google.colab.kernel.accessAllowed ? 'block' : 'none';\n",
              "\n",
              "      buttonEl.onclick = () => {\n",
              "        google.colab.notebook.generateWithVariable('df');\n",
              "      }\n",
              "      })();\n",
              "    </script>\n",
              "  </div>\n",
              "\n",
              "    </div>\n",
              "  </div>\n"
            ],
            "text/plain": [
              "   Name   Age             Email  Salary\n",
              "3  Mike  22.0  john@example.com  5000.0"
            ]
          },
          "execution_count": 53,
          "metadata": {},
          "output_type": "execute_result"
        }
      ],
      "source": [
        "df"
      ]
    },
    {
      "cell_type": "code",
      "execution_count": 54,
      "metadata": {
        "id": "f65yhB1laZwP"
      },
      "outputs": [],
      "source": [
        "df.drop_duplicates(inplace=True) # Remove duplicate rows"
      ]
    },
    {
      "cell_type": "code",
      "execution_count": 55,
      "metadata": {
        "colab": {
          "base_uri": "https://localhost:8080/",
          "height": 89
        },
        "id": "8bLNJBaSaZzW",
        "outputId": "4935f189-0882-4b26-9c5f-eab6462a4840"
      },
      "outputs": [
        {
          "data": {
            "application/vnd.google.colaboratory.intrinsic+json": {
              "summary": "{\n  \"name\": \"df\",\n  \"rows\": 1,\n  \"fields\": [\n    {\n      \"column\": \"Name\",\n      \"properties\": {\n        \"dtype\": \"string\",\n        \"num_unique_values\": 1,\n        \"samples\": [\n          \"Mike\"\n        ],\n        \"semantic_type\": \"\",\n        \"description\": \"\"\n      }\n    },\n    {\n      \"column\": \"Age\",\n      \"properties\": {\n        \"dtype\": \"number\",\n        \"std\": null,\n        \"min\": 22.0,\n        \"max\": 22.0,\n        \"num_unique_values\": 1,\n        \"samples\": [\n          22.0\n        ],\n        \"semantic_type\": \"\",\n        \"description\": \"\"\n      }\n    },\n    {\n      \"column\": \"Email\",\n      \"properties\": {\n        \"dtype\": \"string\",\n        \"num_unique_values\": 1,\n        \"samples\": [\n          \"john@example.com\"\n        ],\n        \"semantic_type\": \"\",\n        \"description\": \"\"\n      }\n    },\n    {\n      \"column\": \"Salary\",\n      \"properties\": {\n        \"dtype\": \"number\",\n        \"std\": null,\n        \"min\": 5000.0,\n        \"max\": 5000.0,\n        \"num_unique_values\": 1,\n        \"samples\": [\n          5000.0\n        ],\n        \"semantic_type\": \"\",\n        \"description\": \"\"\n      }\n    }\n  ]\n}",
              "type": "dataframe",
              "variable_name": "df"
            },
            "text/html": [
              "\n",
              "  <div id=\"df-8a71c912-e658-4aec-b3b0-687a0d533490\" class=\"colab-df-container\">\n",
              "    <div>\n",
              "<style scoped>\n",
              "    .dataframe tbody tr th:only-of-type {\n",
              "        vertical-align: middle;\n",
              "    }\n",
              "\n",
              "    .dataframe tbody tr th {\n",
              "        vertical-align: top;\n",
              "    }\n",
              "\n",
              "    .dataframe thead th {\n",
              "        text-align: right;\n",
              "    }\n",
              "</style>\n",
              "<table border=\"1\" class=\"dataframe\">\n",
              "  <thead>\n",
              "    <tr style=\"text-align: right;\">\n",
              "      <th></th>\n",
              "      <th>Name</th>\n",
              "      <th>Age</th>\n",
              "      <th>Email</th>\n",
              "      <th>Salary</th>\n",
              "    </tr>\n",
              "  </thead>\n",
              "  <tbody>\n",
              "    <tr>\n",
              "      <th>3</th>\n",
              "      <td>Mike</td>\n",
              "      <td>22.0</td>\n",
              "      <td>john@example.com</td>\n",
              "      <td>5000.0</td>\n",
              "    </tr>\n",
              "  </tbody>\n",
              "</table>\n",
              "</div>\n",
              "    <div class=\"colab-df-buttons\">\n",
              "\n",
              "  <div class=\"colab-df-container\">\n",
              "    <button class=\"colab-df-convert\" onclick=\"convertToInteractive('df-8a71c912-e658-4aec-b3b0-687a0d533490')\"\n",
              "            title=\"Convert this dataframe to an interactive table.\"\n",
              "            style=\"display:none;\">\n",
              "\n",
              "  <svg xmlns=\"http://www.w3.org/2000/svg\" height=\"24px\" viewBox=\"0 -960 960 960\">\n",
              "    <path d=\"M120-120v-720h720v720H120Zm60-500h600v-160H180v160Zm220 220h160v-160H400v160Zm0 220h160v-160H400v160ZM180-400h160v-160H180v160Zm440 0h160v-160H620v160ZM180-180h160v-160H180v160Zm440 0h160v-160H620v160Z\"/>\n",
              "  </svg>\n",
              "    </button>\n",
              "\n",
              "  <style>\n",
              "    .colab-df-container {\n",
              "      display:flex;\n",
              "      gap: 12px;\n",
              "    }\n",
              "\n",
              "    .colab-df-convert {\n",
              "      background-color: #E8F0FE;\n",
              "      border: none;\n",
              "      border-radius: 50%;\n",
              "      cursor: pointer;\n",
              "      display: none;\n",
              "      fill: #1967D2;\n",
              "      height: 32px;\n",
              "      padding: 0 0 0 0;\n",
              "      width: 32px;\n",
              "    }\n",
              "\n",
              "    .colab-df-convert:hover {\n",
              "      background-color: #E2EBFA;\n",
              "      box-shadow: 0px 1px 2px rgba(60, 64, 67, 0.3), 0px 1px 3px 1px rgba(60, 64, 67, 0.15);\n",
              "      fill: #174EA6;\n",
              "    }\n",
              "\n",
              "    .colab-df-buttons div {\n",
              "      margin-bottom: 4px;\n",
              "    }\n",
              "\n",
              "    [theme=dark] .colab-df-convert {\n",
              "      background-color: #3B4455;\n",
              "      fill: #D2E3FC;\n",
              "    }\n",
              "\n",
              "    [theme=dark] .colab-df-convert:hover {\n",
              "      background-color: #434B5C;\n",
              "      box-shadow: 0px 1px 3px 1px rgba(0, 0, 0, 0.15);\n",
              "      filter: drop-shadow(0px 1px 2px rgba(0, 0, 0, 0.3));\n",
              "      fill: #FFFFFF;\n",
              "    }\n",
              "  </style>\n",
              "\n",
              "    <script>\n",
              "      const buttonEl =\n",
              "        document.querySelector('#df-8a71c912-e658-4aec-b3b0-687a0d533490 button.colab-df-convert');\n",
              "      buttonEl.style.display =\n",
              "        google.colab.kernel.accessAllowed ? 'block' : 'none';\n",
              "\n",
              "      async function convertToInteractive(key) {\n",
              "        const element = document.querySelector('#df-8a71c912-e658-4aec-b3b0-687a0d533490');\n",
              "        const dataTable =\n",
              "          await google.colab.kernel.invokeFunction('convertToInteractive',\n",
              "                                                    [key], {});\n",
              "        if (!dataTable) return;\n",
              "\n",
              "        const docLinkHtml = 'Like what you see? Visit the ' +\n",
              "          '<a target=\"_blank\" href=https://colab.research.google.com/notebooks/data_table.ipynb>data table notebook</a>'\n",
              "          + ' to learn more about interactive tables.';\n",
              "        element.innerHTML = '';\n",
              "        dataTable['output_type'] = 'display_data';\n",
              "        await google.colab.output.renderOutput(dataTable, element);\n",
              "        const docLink = document.createElement('div');\n",
              "        docLink.innerHTML = docLinkHtml;\n",
              "        element.appendChild(docLink);\n",
              "      }\n",
              "    </script>\n",
              "  </div>\n",
              "\n",
              "\n",
              "  <div id=\"id_bfda405a-baf8-425f-a265-04581127c028\">\n",
              "    <style>\n",
              "      .colab-df-generate {\n",
              "        background-color: #E8F0FE;\n",
              "        border: none;\n",
              "        border-radius: 50%;\n",
              "        cursor: pointer;\n",
              "        display: none;\n",
              "        fill: #1967D2;\n",
              "        height: 32px;\n",
              "        padding: 0 0 0 0;\n",
              "        width: 32px;\n",
              "      }\n",
              "\n",
              "      .colab-df-generate:hover {\n",
              "        background-color: #E2EBFA;\n",
              "        box-shadow: 0px 1px 2px rgba(60, 64, 67, 0.3), 0px 1px 3px 1px rgba(60, 64, 67, 0.15);\n",
              "        fill: #174EA6;\n",
              "      }\n",
              "\n",
              "      [theme=dark] .colab-df-generate {\n",
              "        background-color: #3B4455;\n",
              "        fill: #D2E3FC;\n",
              "      }\n",
              "\n",
              "      [theme=dark] .colab-df-generate:hover {\n",
              "        background-color: #434B5C;\n",
              "        box-shadow: 0px 1px 3px 1px rgba(0, 0, 0, 0.15);\n",
              "        filter: drop-shadow(0px 1px 2px rgba(0, 0, 0, 0.3));\n",
              "        fill: #FFFFFF;\n",
              "      }\n",
              "    </style>\n",
              "    <button class=\"colab-df-generate\" onclick=\"generateWithVariable('df')\"\n",
              "            title=\"Generate code using this dataframe.\"\n",
              "            style=\"display:none;\">\n",
              "\n",
              "  <svg xmlns=\"http://www.w3.org/2000/svg\" height=\"24px\"viewBox=\"0 0 24 24\"\n",
              "       width=\"24px\">\n",
              "    <path d=\"M7,19H8.4L18.45,9,17,7.55,7,17.6ZM5,21V16.75L18.45,3.32a2,2,0,0,1,2.83,0l1.4,1.43a1.91,1.91,0,0,1,.58,1.4,1.91,1.91,0,0,1-.58,1.4L9.25,21ZM18.45,9,17,7.55Zm-12,3A5.31,5.31,0,0,0,4.9,8.1,5.31,5.31,0,0,0,1,6.5,5.31,5.31,0,0,0,4.9,4.9,5.31,5.31,0,0,0,6.5,1,5.31,5.31,0,0,0,8.1,4.9,5.31,5.31,0,0,0,12,6.5,5.46,5.46,0,0,0,6.5,12Z\"/>\n",
              "  </svg>\n",
              "    </button>\n",
              "    <script>\n",
              "      (() => {\n",
              "      const buttonEl =\n",
              "        document.querySelector('#id_bfda405a-baf8-425f-a265-04581127c028 button.colab-df-generate');\n",
              "      buttonEl.style.display =\n",
              "        google.colab.kernel.accessAllowed ? 'block' : 'none';\n",
              "\n",
              "      buttonEl.onclick = () => {\n",
              "        google.colab.notebook.generateWithVariable('df');\n",
              "      }\n",
              "      })();\n",
              "    </script>\n",
              "  </div>\n",
              "\n",
              "    </div>\n",
              "  </div>\n"
            ],
            "text/plain": [
              "   Name   Age             Email  Salary\n",
              "3  Mike  22.0  john@example.com  5000.0"
            ]
          },
          "execution_count": 55,
          "metadata": {},
          "output_type": "execute_result"
        }
      ],
      "source": [
        "df"
      ]
    }
  ],
  "metadata": {
    "colab": {
      "provenance": []
    },
    "kernelspec": {
      "display_name": "Python 3",
      "name": "python3"
    },
    "language_info": {
      "name": "python"
    }
  },
  "nbformat": 4,
  "nbformat_minor": 0
}
